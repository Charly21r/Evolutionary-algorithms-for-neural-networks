{
 "cells": [
  {
   "cell_type": "code",
   "execution_count": 14,
   "id": "a9e6316b",
   "metadata": {},
   "outputs": [],
   "source": [
    "import torch\n",
    "import torch.nn as nn\n",
    "import torch.nn.functional as F\n",
    "import torch.nn.utils as U\n",
    "from torch.utils.data import Dataset, DataLoader\n",
    "from sklearn.datasets import make_moons\n",
    "from sklearn.model_selection import train_test_split\n",
    "import random"
   ]
  },
  {
   "cell_type": "markdown",
   "id": "9c7c74e5",
   "metadata": {},
   "source": [
    "### Define the Neural Network\n",
    "\n",
    "We want to be able to set the weight of the network manually"
   ]
  },
  {
   "cell_type": "code",
   "execution_count": 2,
   "id": "237d9bdf",
   "metadata": {},
   "outputs": [],
   "source": [
    "class NeuralNet(nn.Module):\n",
    "    def __init__(self, in_dim=2, out_dim=2):\n",
    "        super(NeuralNet, self).__init__()\n",
    "\n",
    "        self.layer1=nn.Linear(in_features=in_dim, out_features=4)\n",
    "        self.layer2=nn.Linear(in_features=4, out_features=out_dim)\n",
    "\n",
    "        self.weights_initialization()\n",
    "    \n",
    "    def weights_initialization(self):\n",
    "        for module in self.modules():\n",
    "            if isinstance(module, nn.Linear):\n",
    "                nn.init.xavier_uniform_(module.weight)  # This is the default in PyTorch\n",
    "                nn.init.constant_(module.bias, 0)\n",
    "\n",
    "    def forward(self, x):\n",
    "        out = self.layer1(x)\n",
    "        out = F.relu(out)\n",
    "        out = self.layer2(out)\n",
    "        return out\n",
    "    \n",
    "    def get_flat_params(self):\n",
    "        return U.parameters_to_vector(self.parameters())\n",
    "    \n",
    "    def set_flat_params(self, flat_params):\n",
    "        U.vector_to_parameters(flat_params, self.parameters())"
   ]
  },
  {
   "cell_type": "markdown",
   "id": "791c8108",
   "metadata": {},
   "source": [
    "### Load Data"
   ]
  },
  {
   "cell_type": "code",
   "execution_count": 3,
   "id": "3cb60271",
   "metadata": {},
   "outputs": [],
   "source": [
    "X, y = make_moons(n_samples=1000, noise=0.1, random_state=42)\n",
    "\n",
    "# Split dataset\n",
    "X_train, X_test, y_train, y_test = train_test_split(X, y, test_size=0.2, random_state=42)\n",
    "\n",
    "X_test = torch.tensor(X_test, dtype=torch.float32)\n",
    "y_test = torch.tensor(y_test, dtype=torch.float32)"
   ]
  },
  {
   "cell_type": "markdown",
   "id": "59fc0436",
   "metadata": {},
   "source": [
    "### Evolutionary Algorithm\n",
    "\n",
    "In our case the flat parameters will be the chromosomes"
   ]
  },
  {
   "cell_type": "code",
   "execution_count": 4,
   "id": "fd7a9680",
   "metadata": {},
   "outputs": [
    {
     "name": "stdout",
     "output_type": "stream",
     "text": [
      "tensor([ 5.4157e-01, -9.6938e-01,  6.8159e-01, -3.3370e-01,  3.3292e-01,\n",
      "         6.7682e-01,  9.4453e-01, -1.3159e-01,  0.0000e+00,  0.0000e+00,\n",
      "         0.0000e+00,  0.0000e+00,  7.5796e-02, -2.5452e-01,  1.1230e-01,\n",
      "         9.0249e-01, -1.3721e-04, -2.8852e-01,  7.4950e-01,  8.8189e-01,\n",
      "         0.0000e+00,  0.0000e+00], grad_fn=<CatBackward0>)\n"
     ]
    }
   ],
   "source": [
    "# Initialize model and get flat parameters\n",
    "model = NeuralNet()\n",
    "params_vector = model.get_flat_params()\n",
    "print(params_vector)\n",
    "\n",
    "\n",
    "# Configuration\n",
    "POPULATION_SIZE = 100\n",
    "CHROMOSOME_LENGTH = len(params_vector)\n"
   ]
  },
  {
   "cell_type": "code",
   "execution_count": 15,
   "id": "716ed064",
   "metadata": {},
   "outputs": [],
   "source": [
    "def generate_population(size, chromosome_length):\n",
    "    return [torch.rand(chromosome_length) for _ in range(size)]\n",
    "\n",
    "def fitness(chromosome, model):\n",
    "    model.set_flat_params(chromosome)   # Update model's parameters with the chromosome\n",
    "    with torch.no_grad():\n",
    "        outputs = model(X_test)\n",
    "        pred = outputs.argmax(dim=1)\n",
    "        accuracy = (pred == y_test).float().mean().item()\n",
    "\n",
    "    return accuracy\n",
    "\n",
    "def selection(population, fitness_scores):\n",
    "    total_fitness = sum(fitness_scores)\n",
    "    selection_probs = [f / total_fitness for f in fitness_scores]\n",
    "    parent1 = population[random.choices(range(len(population)), selection_probs)[0]]\n",
    "    parent2 = population[random.choices(range(len(population)), selection_probs)[0]]\n",
    "\n",
    "    return parent1, parent2\n",
    "\n"
   ]
  },
  {
   "cell_type": "code",
   "execution_count": 18,
   "id": "14c260b5",
   "metadata": {},
   "outputs": [
    {
     "name": "stdout",
     "output_type": "stream",
     "text": [
      "Population Sample: tensor([0.0701, 0.1307, 0.6745, 0.1673, 0.8392, 0.8869, 0.2820, 0.0114, 0.7307,\n",
      "        0.9055, 0.8693, 0.6173, 0.2847, 0.7852, 0.1835, 0.6364, 0.6955, 0.8614,\n",
      "        0.6639, 0.0148, 0.9623, 0.4542])\n",
      "\n",
      "Fitness Score: 0.3700000047683716\n",
      "\n",
      "Selection Result: (tensor([0.5948, 0.8742, 0.7199, 0.1199, 0.8909, 0.6064, 0.7875, 0.5580, 0.0707,\n",
      "        0.8762, 0.1548, 0.2320, 0.6264, 0.2064, 0.5214, 0.6253, 0.5612, 0.3735,\n",
      "        0.0711, 0.8735, 0.9077, 0.8904]), tensor([0.8668, 0.1617, 0.7538, 0.9847, 0.9022, 0.9672, 0.6180, 0.0624, 0.8535,\n",
      "        0.9994, 0.5139, 0.8295, 0.2727, 0.3632, 0.3892, 0.5743, 0.4257, 0.6673,\n",
      "        0.6631, 0.2655, 0.8874, 0.1056]))\n"
     ]
    }
   ],
   "source": [
    "population = generate_population(POPULATION_SIZE, CHROMOSOME_LENGTH)\n",
    "fitness_scores = [fitness(individual, model) for individual in population]\n",
    "\n",
    "print(f\"Population Sample: {population[0]}\\n\")\n",
    "print(f\"Fitness Score: {fitness_scores[0]}\\n\")\n",
    "print(f\"Selection Result: {selection(population, fitness_scores)}\")"
   ]
  }
 ],
 "metadata": {
  "kernelspec": {
   "display_name": ".venv",
   "language": "python",
   "name": "python3"
  },
  "language_info": {
   "codemirror_mode": {
    "name": "ipython",
    "version": 3
   },
   "file_extension": ".py",
   "mimetype": "text/x-python",
   "name": "python",
   "nbconvert_exporter": "python",
   "pygments_lexer": "ipython3",
   "version": "3.13.2"
  }
 },
 "nbformat": 4,
 "nbformat_minor": 5
}
