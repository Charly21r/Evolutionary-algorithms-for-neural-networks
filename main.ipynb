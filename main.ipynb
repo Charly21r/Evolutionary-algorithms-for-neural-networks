{
 "cells": [
  {
   "cell_type": "code",
   "execution_count": 1,
   "id": "a9e6316b",
   "metadata": {},
   "outputs": [],
   "source": [
    "import torch\n",
    "import torch.nn as nn\n",
    "import torch.nn.functional as F\n",
    "import torch.nn.utils as U\n",
    "from torch.utils.data import Dataset, DataLoader\n",
    "from sklearn.datasets import make_moons\n",
    "from sklearn.model_selection import train_test_split\n",
    "import random"
   ]
  },
  {
   "cell_type": "markdown",
   "id": "9c7c74e5",
   "metadata": {},
   "source": [
    "### Define the Neural Network\n",
    "\n",
    "Simple network with two layers.\n",
    "We want to be able to set the weight of the network manually, and get them in the form of a flat vector."
   ]
  },
  {
   "cell_type": "code",
   "execution_count": 2,
   "id": "237d9bdf",
   "metadata": {},
   "outputs": [],
   "source": [
    "class NeuralNet(nn.Module):\n",
    "    def __init__(self, in_dim=2, out_dim=2):\n",
    "        super(NeuralNet, self).__init__()\n",
    "        \n",
    "        self.layer1=nn.Linear(in_features=in_dim, out_features=4)\n",
    "        self.layer2=nn.Linear(in_features=4, out_features=out_dim)\n",
    "\n",
    "        self.weights_initialization()\n",
    "    \n",
    "    def weights_initialization(self):\n",
    "        for module in self.modules():\n",
    "            if isinstance(module, nn.Linear):\n",
    "                nn.init.xavier_uniform_(module.weight)  # This is the default in PyTorch\n",
    "                nn.init.constant_(module.bias, 0)\n",
    "\n",
    "    def forward(self, x):\n",
    "        out = self.layer1(x)\n",
    "        out = F.relu(out)\n",
    "        out = self.layer2(out)\n",
    "        return out\n",
    "    \n",
    "    def get_flat_params(self):\n",
    "        return U.parameters_to_vector(self.parameters())\n",
    "    \n",
    "    def set_flat_params(self, flat_params):\n",
    "        U.vector_to_parameters(flat_params, self.parameters())"
   ]
  },
  {
   "cell_type": "markdown",
   "id": "791c8108",
   "metadata": {},
   "source": [
    "### Load Data"
   ]
  },
  {
   "cell_type": "code",
   "execution_count": 3,
   "id": "3cb60271",
   "metadata": {},
   "outputs": [],
   "source": [
    "X, y = make_moons(n_samples=1000, noise=0.1, random_state=42)\n",
    "\n",
    "# Split dataset\n",
    "X_train, X_test, y_train, y_test = train_test_split(X, y, test_size=0.2, random_state=42)\n",
    "\n",
    "X_test = torch.tensor(X_test, dtype=torch.float32)\n",
    "y_test = torch.tensor(y_test, dtype=torch.float32)"
   ]
  },
  {
   "cell_type": "markdown",
   "id": "59fc0436",
   "metadata": {},
   "source": [
    "### Evolutionary Algorithm\n",
    "\n",
    "The parameters are the genes.\n",
    "The flat vector of parameters is the chromosome.\n",
    "The population is the different random combinations of parameters."
   ]
  },
  {
   "cell_type": "code",
   "execution_count": 4,
   "id": "716ed064",
   "metadata": {},
   "outputs": [],
   "source": [
    "def generate_population(size, chromosome_length):\n",
    "    \"\"\" Generate random population \"\"\"\n",
    "    return [torch.randn(chromosome_length) for _ in range(size)]\n",
    "\n",
    "def fitness(chromosome, model):\n",
    "    \"\"\" Algorithm's fitness function \"\"\"\n",
    "    model.set_flat_params(chromosome)   # Update model's parameters with the chromosome\n",
    "    with torch.no_grad():\n",
    "        outputs = model(X_test)\n",
    "        pred = outputs.argmax(dim=1)\n",
    "        accuracy = (pred == y_test).float().mean().item()\n",
    "    return accuracy\n",
    "\n",
    "def selection(population, fitness_scores):\n",
    "    \"\"\" Roulette Wheel Selection \"\"\"\n",
    "    total_fitness = sum(fitness_scores)\n",
    "\n",
    "    if total_fitness == 0:  # If it's 0 we get an uniform distribution\n",
    "        selection_probs = [1 / len(fitness_scores)] * len(fitness_scores)\n",
    "    else:\n",
    "        selection_probs = [f / total_fitness for f in fitness_scores]\n",
    "    \n",
    "    parent1 = population[random.choices(range(len(population)), selection_probs)[0]]\n",
    "    parent2 = population[random.choices(range(len(population)), selection_probs)[0]]\n",
    "    return parent1, parent2\n",
    "\n",
    "def crossover(parent1, parent2):\n",
    "    \"\"\"Two-Point Crossover\"\"\"\n",
    "    p1, p2 = sorted(random.sample(range(1, len(parent1)), 2))\n",
    "    offspring1 = torch.cat([parent1[:p1], parent2[p1:p2], parent1[p2:]])\n",
    "    offspring2 = torch.cat([parent2[:p1], parent1[p1:p2], parent2[p2:]])\n",
    "    return offspring1, offspring2\n",
    "\n",
    "def mutate(chromosome, mutation_rate=0.05, mutation_strength=0.1):\n",
    "    \"\"\"\n",
    "        Mutate a small subset of the genes of the chromosome.\n",
    "\n",
    "        Args:\n",
    "            chromosome (tensor): Chromosome to mutate.\n",
    "            mutation_rate (float): Probability of mutating each gene.\n",
    "            mutation_strength (float): How much noise is aggregated to mutated genes.\n",
    "    \"\"\"\n",
    "    mutated = chromosome.clone()\n",
    "    for i in range(len(mutated)):\n",
    "        if random.random() < mutation_rate:\n",
    "            mutated[i] += torch.randn(1).item() * mutation_strength\n",
    "    return mutated\n"
   ]
  },
  {
   "cell_type": "code",
   "execution_count": 5,
   "id": "14c260b5",
   "metadata": {},
   "outputs": [
    {
     "name": "stdout",
     "output_type": "stream",
     "text": [
      "Flat Params: tensor([-0.8489, -0.8841, -0.2412,  0.4324,  0.8400, -0.8580,  0.6488, -0.5923,\n",
      "         0.0000,  0.0000,  0.0000,  0.0000,  0.1888, -0.6050,  0.6828, -0.3111,\n",
      "        -0.4196, -0.2563,  0.5051, -0.0666,  0.0000,  0.0000],\n",
      "       grad_fn=<CatBackward0>)\n",
      "\n",
      "Population Sample: tensor([-2.2779,  1.0271,  0.9689, -1.2743, -1.1449,  2.2744, -0.2585, -0.2658,\n",
      "         0.7961, -0.3824, -0.9746,  0.2600,  1.1276,  0.1932, -0.7415, -1.1081,\n",
      "        -0.2385,  0.4459, -0.9192, -0.9908,  0.5050, -0.1834])\n",
      "\n",
      "Fitness Score Sample: 0.5\n",
      "\n",
      "Selection Result: (tensor([-2.2779,  1.0271,  0.9689, -1.2743, -1.1449,  2.2744, -0.2585, -0.2658,\n",
      "         0.7961, -0.3824, -0.9746,  0.2600,  1.1276,  0.1932, -0.7415, -1.1081,\n",
      "        -0.2385,  0.4459, -0.9192, -0.9908,  0.5050, -0.1834]), tensor([-2.2779,  1.0271,  0.9689, -1.2743, -1.1449,  2.2744, -0.2585, -0.2658,\n",
      "         0.7961, -0.3824, -0.9746,  0.2600,  1.1276,  0.1932, -0.7415, -1.1081,\n",
      "        -0.2385,  0.4459, -0.9192, -0.9908,  0.5050, -0.1834]))\n",
      "\n",
      "Crossover Result: (tensor([-2.2779,  1.0271,  0.9689, -1.2743, -1.1449,  2.2744, -0.2585, -0.2658,\n",
      "         0.7961, -0.3824, -0.9746,  0.2600,  1.1276,  0.1932, -0.7415, -1.1081,\n",
      "        -0.2385,  0.4459, -0.9192, -0.9908,  0.5050, -0.1834]), tensor([-2.2779,  1.0271,  0.9689, -1.2743, -1.1449,  2.2744, -0.2585, -0.2658,\n",
      "         0.7961, -0.3824, -0.9746,  0.2600,  1.1276,  0.1932, -0.7415, -1.1081,\n",
      "        -0.2385,  0.4459, -0.9192, -0.9908,  0.5050, -0.1834]))\n",
      "\n",
      "Mutated Offspring 1: tensor([-2.2779,  1.0271,  0.9689, -1.2743, -1.1449,  2.2744, -0.2585, -0.2658,\n",
      "         0.7961, -0.3824, -0.9746,  0.2600,  1.1276,  0.1932, -0.7415, -1.1081,\n",
      "        -0.2385,  0.4459, -0.9192, -0.9908,  0.5050, -0.1454])\n"
     ]
    }
   ],
   "source": [
    "# Initialize model and get flat parameters\n",
    "model = NeuralNet()\n",
    "params_vector = model.get_flat_params()\n",
    "print(f\"Flat Params: {params_vector}\\n\")\n",
    "\n",
    "population = generate_population(1, len(params_vector))\n",
    "fitness_scores = [fitness(individual, model) for individual in population]\n",
    "parent1, parent2 = selection(population, fitness_scores)\n",
    "offspring1, offspring2 = crossover(parent1, parent2)\n",
    "mutated_offspring1 = mutate(offspring1)\n",
    "\n",
    "print(f\"Population Sample: {population[0]}\\n\")\n",
    "print(f\"Fitness Score Sample: {fitness_scores[0]}\\n\")\n",
    "print(f\"Selection Result: {parent1, parent2}\\n\")\n",
    "print(f\"Crossover Result: {offspring1, offspring2}\\n\")\n",
    "print(f\"Mutated Offspring 1: {mutated_offspring1}\")\n"
   ]
  },
  {
   "cell_type": "code",
   "execution_count": 6,
   "id": "5edb15b4",
   "metadata": {},
   "outputs": [],
   "source": [
    "def genetic_algorithm(population_size, chromosome_length, n_generations, model):\n",
    "    population = generate_population(population_size, chromosome_length)    # Initialize population\n",
    "    best, best_fitness = 0, 0   # Keeping track of best result\n",
    "    \n",
    "    # Main loop\n",
    "    for generation in range(n_generations):\n",
    "        fitness_scores = [fitness(individual, model) for individual in population]  # Calculate fitness scores\n",
    "        # Search for the best chromosome\n",
    "        for i in range(population_size):\n",
    "            if fitness_scores[i] > best_fitness:\n",
    "                best = population[i]\n",
    "                best_fitness = fitness_scores[i]\n",
    "        \n",
    "        # Create new generation\n",
    "        new_gen = []\n",
    "        while len(new_gen) < population_size:\n",
    "            parent1, parent2 = selection(population, fitness_scores)\n",
    "            offspring1, offspring2 = crossover(parent1, parent2)\n",
    "            child1 = mutate(offspring1)\n",
    "            child2 = mutate(offspring2)\n",
    "\n",
    "            new_gen.extend([child1, child2])\n",
    "\n",
    "        population = new_gen    # Replace popultaion with new generation\n",
    "\n",
    "    return best, best_fitness\n"
   ]
  },
  {
   "cell_type": "markdown",
   "id": "726e3f0b",
   "metadata": {},
   "source": [
    "### Train the Neural Network"
   ]
  },
  {
   "cell_type": "code",
   "execution_count": 7,
   "id": "acf37f0f",
   "metadata": {},
   "outputs": [],
   "source": [
    "def evaluate(X, y, model):\n",
    "    with torch.no_grad():\n",
    "        outputs = model(X_test)\n",
    "        preds = outputs.argmax(dim=1)\n",
    "        acc = (preds == y_test).float().mean().item()\n",
    "    return acc"
   ]
  },
  {
   "cell_type": "markdown",
   "id": "1b3cffc2",
   "metadata": {},
   "source": [
    "##### Without Training"
   ]
  },
  {
   "cell_type": "code",
   "execution_count": 8,
   "id": "4c06ab65",
   "metadata": {},
   "outputs": [
    {
     "name": "stdout",
     "output_type": "stream",
     "text": [
      "\n",
      "Final accuracy of best model: 0.5050\n"
     ]
    }
   ],
   "source": [
    "# Initialize model\n",
    "model = NeuralNet()\n",
    "params_vector = model.get_flat_params()\n",
    "\n",
    "# Configuration\n",
    "POPULATION_SIZE = 100\n",
    "CHROMOSOME_LENGTH = len(params_vector)\n",
    "NUM_GENERATIONS = 100\n",
    "\n",
    "acc = evaluate(X_test, y_test, model)\n",
    "print(f\"\\nFinal accuracy of best model: {acc:.4f}\")"
   ]
  },
  {
   "cell_type": "code",
   "execution_count": 9,
   "id": "0c9dfd3e",
   "metadata": {},
   "outputs": [
    {
     "name": "stdout",
     "output_type": "stream",
     "text": [
      "\n",
      "Final accuracy of best model: 0.9700\n"
     ]
    }
   ],
   "source": [
    "best_chromosome, score = genetic_algorithm(POPULATION_SIZE, CHROMOSOME_LENGTH, NUM_GENERATIONS, model)\n",
    "\n",
    "# Set best individual's params in the model\n",
    "model.set_flat_params(best_chromosome)\n",
    "\n",
    "# Evaluate\n",
    "acc = evaluate(X_test, y_test, model)\n",
    "print(f\"\\nFinal accuracy of best model: {acc:.4f}\")"
   ]
  }
 ],
 "metadata": {
  "kernelspec": {
   "display_name": ".venv",
   "language": "python",
   "name": "python3"
  },
  "language_info": {
   "codemirror_mode": {
    "name": "ipython",
    "version": 3
   },
   "file_extension": ".py",
   "mimetype": "text/x-python",
   "name": "python",
   "nbconvert_exporter": "python",
   "pygments_lexer": "ipython3",
   "version": "3.13.2"
  }
 },
 "nbformat": 4,
 "nbformat_minor": 5
}
