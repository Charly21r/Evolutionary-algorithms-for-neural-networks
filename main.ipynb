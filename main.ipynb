{
 "cells": [
  {
   "cell_type": "code",
   "execution_count": null,
   "id": "a9e6316b",
   "metadata": {},
   "outputs": [],
   "source": [
    "import torch\n",
    "import torch.nn as nn\n",
    "import torch.nn.functional as F"
   ]
  },
  {
   "cell_type": "markdown",
   "id": "9c7c74e5",
   "metadata": {},
   "source": [
    "### Define the Neural Network\n",
    "\n",
    "We want to be able to set the weight of the network manually"
   ]
  },
  {
   "cell_type": "code",
   "execution_count": 12,
   "id": "237d9bdf",
   "metadata": {},
   "outputs": [],
   "source": [
    "class NeuralNet(nn.Module):\n",
    "    def __init__(self, in_dim=2, out_dim=2):\n",
    "        super(NeuralNet, self).__init__()\n",
    "\n",
    "        self.layer1=nn.Linear(in_features=in_dim, out_features=10)\n",
    "        self.layer2=nn.Linear(in_features=10, out_features=out_dim)\n",
    "\n",
    "        self.weights_initialization()\n",
    "    \n",
    "    def weights_initialization(self):\n",
    "        for module in self.modules():\n",
    "            if isinstance(module, nn.Linear):\n",
    "                nn.init.xavier_uniform_(module.weight)  # This is the default in PyTorch\n",
    "                nn.init.constant_(module.bias, 0)\n",
    "\n",
    "    def forward(self, x):\n",
    "        out = self.layer1(x)\n",
    "        out = F.relu(out)\n",
    "        out = self.layer2(out)\n",
    "        out = F.relu(out)\n",
    "        return out\n",
    "    \n",
    "    def get_params(self):\n",
    "        params = []\n",
    "        for p in self.parameters():\n",
    "            params.append(p.data.view(-1))\n",
    "            print(p)\n",
    "        return params"
   ]
  },
  {
   "cell_type": "code",
   "execution_count": null,
   "id": "22c54953",
   "metadata": {},
   "outputs": [
    {
     "name": "stdout",
     "output_type": "stream",
     "text": [
      "Parameter containing:\n",
      "tensor([[-0.4473,  0.5881],\n",
      "        [ 0.1878, -0.0915],\n",
      "        [-0.1317, -0.6962],\n",
      "        [-0.3467, -0.7016],\n",
      "        [-0.1025, -0.4769],\n",
      "        [-0.5561,  0.1327],\n",
      "        [-0.2340,  0.2707],\n",
      "        [ 0.4072, -0.3388],\n",
      "        [ 0.1807,  0.4253],\n",
      "        [ 0.3893, -0.1310]], requires_grad=True)\n",
      "Parameter containing:\n",
      "tensor([0., 0., 0., 0., 0., 0., 0., 0., 0., 0.], requires_grad=True)\n",
      "Parameter containing:\n",
      "tensor([[ 0.2836,  0.4667,  0.3135, -0.5810,  0.3790, -0.3204,  0.3446,  0.0035,\n",
      "          0.2094, -0.1178],\n",
      "        [ 0.3839,  0.2882, -0.1170, -0.5665,  0.4906, -0.6535,  0.1110, -0.2311,\n",
      "          0.4510, -0.0431]], requires_grad=True)\n",
      "Parameter containing:\n",
      "tensor([0., 0.], requires_grad=True)\n"
     ]
    },
    {
     "data": {
      "text/plain": [
       "[tensor([-0.4473,  0.5881,  0.1878, -0.0915, -0.1317, -0.6962, -0.3467, -0.7016,\n",
       "         -0.1025, -0.4769, -0.5561,  0.1327, -0.2340,  0.2707,  0.4072, -0.3388,\n",
       "          0.1807,  0.4253,  0.3893, -0.1310]),\n",
       " tensor([0., 0., 0., 0., 0., 0., 0., 0., 0., 0.]),\n",
       " tensor([ 0.2836,  0.4667,  0.3135, -0.5810,  0.3790, -0.3204,  0.3446,  0.0035,\n",
       "          0.2094, -0.1178,  0.3839,  0.2882, -0.1170, -0.5665,  0.4906, -0.6535,\n",
       "          0.1110, -0.2311,  0.4510, -0.0431]),\n",
       " tensor([0., 0.])]"
      ]
     },
     "execution_count": 13,
     "metadata": {},
     "output_type": "execute_result"
    }
   ],
   "source": [
    "model = NeuralNet()\n",
    "model.get_params()\n"
   ]
  }
 ],
 "metadata": {
  "kernelspec": {
   "display_name": ".venv",
   "language": "python",
   "name": "python3"
  },
  "language_info": {
   "codemirror_mode": {
    "name": "ipython",
    "version": 3
   },
   "file_extension": ".py",
   "mimetype": "text/x-python",
   "name": "python",
   "nbconvert_exporter": "python",
   "pygments_lexer": "ipython3",
   "version": "3.13.2"
  }
 },
 "nbformat": 4,
 "nbformat_minor": 5
}
