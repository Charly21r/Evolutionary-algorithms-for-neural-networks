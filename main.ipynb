{
 "cells": [
  {
   "cell_type": "code",
   "execution_count": 14,
   "id": "a9e6316b",
   "metadata": {},
   "outputs": [],
   "source": [
    "import torch\n",
    "import torch.nn as nn\n",
    "import torch.nn.functional as F\n",
    "import torch.nn.utils as U\n",
    "from torch.utils.data import Dataset, DataLoader\n",
    "from sklearn.datasets import make_moons\n",
    "from sklearn.model_selection import train_test_split\n",
    "import random"
   ]
  },
  {
   "cell_type": "markdown",
   "id": "9c7c74e5",
   "metadata": {},
   "source": [
    "### Define the Neural Network\n",
    "\n",
    "We want to be able to set the weight of the network manually"
   ]
  },
  {
   "cell_type": "code",
   "execution_count": null,
   "id": "237d9bdf",
   "metadata": {},
   "outputs": [],
   "source": [
    "class NeuralNet(nn.Module):\n",
    "    def __init__(self, in_dim=2, out_dim=2):\n",
    "        super(NeuralNet, self).__init__()\n",
    "        \n",
    "        self.layer1=nn.Linear(in_features=in_dim, out_features=4)\n",
    "        self.layer2=nn.Linear(in_features=4, out_features=out_dim)\n",
    "\n",
    "        self.weights_initialization()\n",
    "    \n",
    "    def weights_initialization(self):\n",
    "        for module in self.modules():\n",
    "            if isinstance(module, nn.Linear):\n",
    "                nn.init.xavier_uniform_(module.weight)  # This is the default in PyTorch\n",
    "                nn.init.constant_(module.bias, 0)\n",
    "\n",
    "    def forward(self, x):\n",
    "        out = self.layer1(x)\n",
    "        out = F.relu(out)\n",
    "        out = self.layer2(out)\n",
    "        return out\n",
    "    \n",
    "    def get_flat_params(self):\n",
    "        return U.parameters_to_vector(self.parameters())\n",
    "    \n",
    "    def set_flat_params(self, flat_params):\n",
    "        U.vector_to_parameters(flat_params, self.parameters())"
   ]
  },
  {
   "cell_type": "markdown",
   "id": "791c8108",
   "metadata": {},
   "source": [
    "### Load Data"
   ]
  },
  {
   "cell_type": "code",
   "execution_count": 3,
   "id": "3cb60271",
   "metadata": {},
   "outputs": [],
   "source": [
    "X, y = make_moons(n_samples=1000, noise=0.1, random_state=42)\n",
    "\n",
    "# Split dataset\n",
    "X_train, X_test, y_train, y_test = train_test_split(X, y, test_size=0.2, random_state=42)\n",
    "\n",
    "X_test = torch.tensor(X_test, dtype=torch.float32)\n",
    "y_test = torch.tensor(y_test, dtype=torch.float32)"
   ]
  },
  {
   "cell_type": "markdown",
   "id": "59fc0436",
   "metadata": {},
   "source": [
    "### Evolutionary Algorithm\n",
    "\n",
    "In our case the flat parameters will be the chromosomes"
   ]
  },
  {
   "cell_type": "code",
   "execution_count": null,
   "id": "fd7a9680",
   "metadata": {},
   "outputs": [
    {
     "name": "stdout",
     "output_type": "stream",
     "text": [
      "tensor([ 5.4157e-01, -9.6938e-01,  6.8159e-01, -3.3370e-01,  3.3292e-01,\n",
      "         6.7682e-01,  9.4453e-01, -1.3159e-01,  0.0000e+00,  0.0000e+00,\n",
      "         0.0000e+00,  0.0000e+00,  7.5796e-02, -2.5452e-01,  1.1230e-01,\n",
      "         9.0249e-01, -1.3721e-04, -2.8852e-01,  7.4950e-01,  8.8189e-01,\n",
      "         0.0000e+00,  0.0000e+00], grad_fn=<CatBackward0>)\n"
     ]
    }
   ],
   "source": [
    "# Initialize model and get flat parameters\n",
    "model = NeuralNet()\n",
    "params_vector = model.get_flat_params()\n",
    "print(params_vector)\n",
    "\n",
    "# Configuration\n",
    "POPULATION_SIZE = 100\n",
    "CHROMOSOME_LENGTH = len(params_vector)"
   ]
  },
  {
   "cell_type": "code",
   "execution_count": 41,
   "id": "716ed064",
   "metadata": {},
   "outputs": [],
   "source": [
    "def generate_population(size, chromosome_length):\n",
    "    \"\"\" Generate random population \"\"\"\n",
    "    return [torch.rand(chromosome_length) for _ in range(size)]\n",
    "\n",
    "def fitness(chromosome, model):\n",
    "    \"\"\" Algorithm's fitness function \"\"\"\n",
    "    model.set_flat_params(chromosome)   # Update model's parameters with the chromosome\n",
    "    with torch.no_grad():\n",
    "        outputs = model(X_test)\n",
    "        pred = outputs.argmax(dim=1)\n",
    "        accuracy = (pred == y_test).float().mean().item()\n",
    "\n",
    "    return accuracy\n",
    "\n",
    "def selection(population, fitness_scores):\n",
    "    \"\"\" Roulette Wheel Selection \"\"\"\n",
    "    total_fitness = sum(fitness_scores)\n",
    "    selection_probs = [f / total_fitness for f in fitness_scores]\n",
    "    parent1 = population[random.choices(range(len(population)), selection_probs)[0]]\n",
    "    parent2 = population[random.choices(range(len(population)), selection_probs)[0]]\n",
    "\n",
    "    return parent1, parent2\n",
    "\n",
    "def crossover(parent1, parent2):\n",
    "    \"\"\" Two-Point Crossover \"\"\"\n",
    "    # Choose two random points\n",
    "    point1 = random.randint(1, len(parent1)-1)\n",
    "    point2 = random.randint(1, len(parent1)-1)\n",
    "\n",
    "    # Ensure the points are different\n",
    "    while point1 == point2:\n",
    "        point2 = random.randint(1, len(parent1)-1)\n",
    "    \n",
    "    if point2 > point1:\n",
    "        offspring1 = torch.cat([parent1[:point1], parent2[point1:point2], parent1[point2:]])\n",
    "        offspring2 = torch.cat([parent2[:point1], parent1[point1:point2], parent2[point2:]])\n",
    "    else:\n",
    "        offspring1 = torch.cat([parent1[:point2], parent2[point2:point1], parent1[point1:]])\n",
    "        offspring2 = torch.cat([parent2[:point2], parent1[point2:point1], parent2[point1:]])\n",
    "    \n",
    "    return offspring1, offspring2\n",
    "\n",
    "def mutate_v1(chromosome, mutation_rate=0.01):\n",
    "    \"\"\" Mutation Function \"\"\"\n",
    "    noise = torch.randn_like(chromosome) * mutation_rate # Generate random tensor with same length as chromosome\n",
    "    return chromosome + noise\n",
    "\n",
    "def mutate(chromosome, mutation_rate=0.05, mutation_strength=0.1):\n",
    "    \"\"\"\n",
    "        Mutate a small subset of the genes of the chromosome.\n",
    "\n",
    "        Args:\n",
    "            chromosome (tensor): Chromosome to mutate.\n",
    "            mutation_rate (float): Probability of mutating each gene.\n",
    "            mutation_strength (float): How much noise is aggregated to mutated genes.\n",
    "    \"\"\"\n",
    "    mutated = chromosome.clone()\n",
    "\n",
    "    for i in range(len(mutated)):\n",
    "        if random.random() < mutation_rate:\n",
    "            mutated[i] += torch.randn(1).item() * mutation_strength\n",
    "\n",
    "    return mutated\n",
    "\n"
   ]
  },
  {
   "cell_type": "code",
   "execution_count": 43,
   "id": "14c260b5",
   "metadata": {},
   "outputs": [
    {
     "name": "stdout",
     "output_type": "stream",
     "text": [
      "Population Sample: tensor([0.5301, 0.2916, 0.7357, 0.5392, 0.3083, 0.5996, 0.8071, 0.7868, 0.6914,\n",
      "        0.1242, 0.8817, 0.5972, 0.8713, 0.4578, 0.5880, 0.2074, 0.9841, 0.9371,\n",
      "        0.5900, 0.7942, 0.3009, 0.3163])\n",
      "\n",
      "Fitness Score Sample: 0.5\n",
      "\n",
      "Selection Result: (tensor([0.9512, 0.7355, 0.3156, 0.3789, 0.2979, 0.9569, 0.4994, 0.5506, 0.9616,\n",
      "        0.2657, 0.8021, 0.5724, 0.5779, 0.1046, 0.9346, 0.6555, 0.0720, 0.9649,\n",
      "        0.1768, 0.9612, 0.3261, 0.0611]), tensor([0.0786, 0.8736, 0.5765, 0.9070, 0.0564, 0.3788, 0.5298, 0.0863, 0.8242,\n",
      "        0.6577, 0.4509, 0.4715, 0.9762, 0.7907, 0.2238, 0.2519, 0.1346, 0.0428,\n",
      "        0.3270, 0.8231, 0.4135, 0.9019]))\n",
      "\n",
      "Crossover Result: (tensor([0.9512, 0.7355, 0.3156, 0.9070, 0.0564, 0.3788, 0.5298, 0.0863, 0.8242,\n",
      "        0.6577, 0.4509, 0.5724, 0.5779, 0.1046, 0.9346, 0.6555, 0.0720, 0.9649,\n",
      "        0.1768, 0.9612, 0.3261, 0.0611]), tensor([0.0786, 0.8736, 0.5765, 0.3789, 0.2979, 0.9569, 0.4994, 0.5506, 0.9616,\n",
      "        0.2657, 0.8021, 0.4715, 0.9762, 0.7907, 0.2238, 0.2519, 0.1346, 0.0428,\n",
      "        0.3270, 0.8231, 0.4135, 0.9019]))\n",
      "\n",
      "Mutated Offspring 1: tensor([0.9512, 0.7355, 0.3156, 0.9070, 0.0564, 0.3206, 0.5298, 0.0863, 0.8242,\n",
      "        0.6577, 0.4509, 0.5724, 0.5779, 0.1166, 0.9346, 0.6555, 0.0720, 0.9649,\n",
      "        0.1768, 0.9612, 0.3261, 0.0611])\n"
     ]
    }
   ],
   "source": [
    "population = generate_population(POPULATION_SIZE, CHROMOSOME_LENGTH)\n",
    "fitness_scores = [fitness(individual, model) for individual in population]\n",
    "parent1, parent2 = selection(population, fitness_scores)\n",
    "offspring1, offspring2 = crossover(parent1, parent2)\n",
    "mutated_offspring1 = mutate(offspring1)\n",
    "\n",
    "print(f\"Population Sample: {population[0]}\\n\")\n",
    "print(f\"Fitness Score Sample: {fitness_scores[0]}\\n\")\n",
    "print(f\"Selection Result: {parent1, parent2}\\n\")\n",
    "print(f\"Crossover Result: {offspring1, offspring2}\\n\")\n",
    "print(f\"Mutated Offspring 1: {mutated_offspring1}\")\n"
   ]
  }
 ],
 "metadata": {
  "kernelspec": {
   "display_name": ".venv",
   "language": "python",
   "name": "python3"
  },
  "language_info": {
   "codemirror_mode": {
    "name": "ipython",
    "version": 3
   },
   "file_extension": ".py",
   "mimetype": "text/x-python",
   "name": "python",
   "nbconvert_exporter": "python",
   "pygments_lexer": "ipython3",
   "version": "3.13.2"
  }
 },
 "nbformat": 4,
 "nbformat_minor": 5
}
