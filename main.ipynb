{
 "cells": [
  {
   "cell_type": "code",
   "execution_count": 1,
   "id": "a9e6316b",
   "metadata": {},
   "outputs": [],
   "source": [
    "import torch\n",
    "import torch.nn as nn\n",
    "import torch.nn.functional as F\n",
    "import torch.nn.utils as U\n",
    "from torch.utils.data import Dataset, DataLoader\n",
    "from sklearn.datasets import make_moons\n",
    "from sklearn.model_selection import train_test_split"
   ]
  },
  {
   "cell_type": "markdown",
   "id": "9c7c74e5",
   "metadata": {},
   "source": [
    "### Define the Neural Network\n",
    "\n",
    "We want to be able to set the weight of the network manually"
   ]
  },
  {
   "cell_type": "code",
   "execution_count": 2,
   "id": "237d9bdf",
   "metadata": {},
   "outputs": [],
   "source": [
    "class NeuralNet(nn.Module):\n",
    "    def __init__(self, in_dim=2, out_dim=2):\n",
    "        super(NeuralNet, self).__init__()\n",
    "\n",
    "        self.layer1=nn.Linear(in_features=in_dim, out_features=4)\n",
    "        self.layer2=nn.Linear(in_features=4, out_features=out_dim)\n",
    "\n",
    "        self.weights_initialization()\n",
    "    \n",
    "    def weights_initialization(self):\n",
    "        for module in self.modules():\n",
    "            if isinstance(module, nn.Linear):\n",
    "                nn.init.xavier_uniform_(module.weight)  # This is the default in PyTorch\n",
    "                nn.init.constant_(module.bias, 0)\n",
    "\n",
    "    def forward(self, x):\n",
    "        out = self.layer1(x)\n",
    "        out = F.relu(out)\n",
    "        out = self.layer2(out)\n",
    "        return out\n",
    "    \n",
    "    def get_flat_params(self):\n",
    "        return U.parameters_to_vector(self.parameters())\n",
    "    \n",
    "    def set_flat_params(self, flat_params):\n",
    "        U.vector_to_parameters(flat_params, self.parameters())"
   ]
  },
  {
   "cell_type": "markdown",
   "id": "791c8108",
   "metadata": {},
   "source": [
    "### Load Data"
   ]
  },
  {
   "cell_type": "code",
   "execution_count": 3,
   "id": "3cb60271",
   "metadata": {},
   "outputs": [],
   "source": [
    "X, y = make_moons(n_samples=1000, noise=0.1, random_state=42)\n",
    "\n",
    "# Split dataset\n",
    "X_train, X_test, y_train, y_test = train_test_split(X, y, test_size=0.2, random_state=42)\n",
    "\n",
    "X_test = torch.tensor(X_test, dtype=torch.float32)\n",
    "y_test = torch.tensor(y_test, dtype=torch.float32)"
   ]
  },
  {
   "cell_type": "markdown",
   "id": "59fc0436",
   "metadata": {},
   "source": [
    "### Evolutionary Algorithm\n",
    "\n",
    "In our case the flat parameters will be the chromosomes"
   ]
  },
  {
   "cell_type": "code",
   "execution_count": 4,
   "id": "fd7a9680",
   "metadata": {},
   "outputs": [
    {
     "name": "stdout",
     "output_type": "stream",
     "text": [
      "tensor([-0.6845,  0.2437, -0.8973,  0.2288,  0.2638, -0.1709,  0.9182,  0.3240,\n",
      "         0.0000,  0.0000,  0.0000,  0.0000, -0.0631,  0.0214,  0.5412, -0.5746,\n",
      "        -0.1969, -0.7811,  0.0958,  0.0240,  0.0000,  0.0000],\n",
      "       grad_fn=<CatBackward0>)\n"
     ]
    }
   ],
   "source": [
    "# Initialize model and get flat parameters\n",
    "model = NeuralNet()\n",
    "params_vector = model.get_flat_params()\n",
    "print(params_vector)\n",
    "\n",
    "\n",
    "# Configuration\n",
    "POPULATION_SIZE = 100\n",
    "CHROMOSOME_LENGTH = len(params_vector)\n"
   ]
  },
  {
   "cell_type": "code",
   "execution_count": 5,
   "id": "716ed064",
   "metadata": {},
   "outputs": [],
   "source": [
    "def generate_population(size, chromosome_length):\n",
    "    return [torch.rand(chromosome_length) for _ in range(size)]\n",
    "\n",
    "def fitness(chromosome, model):\n",
    "    model.set_flat_params(chromosome)   # Update model's parameters with the chromosome\n",
    "    with torch.no_grad():\n",
    "        outputs = model(X_test)\n",
    "        pred = outputs.argmax(dim=1)\n",
    "        accuracy = (pred == y_test).float().mean().item()\n",
    "\n",
    "    return accuracy\n"
   ]
  },
  {
   "cell_type": "code",
   "execution_count": 18,
   "id": "14c260b5",
   "metadata": {},
   "outputs": [
    {
     "name": "stdout",
     "output_type": "stream",
     "text": [
      "tensor([0.5999, 0.0663, 0.3498, 0.5129, 0.2641, 0.4382, 0.0389, 0.9832, 0.7759,\n",
      "        0.1934, 0.7615, 0.9589, 0.5513, 0.4209, 0.2688, 0.7039, 0.0884, 0.1870,\n",
      "        0.1561, 0.6013, 0.1102, 0.2477])\n",
      "0.5\n"
     ]
    }
   ],
   "source": [
    "population = generate_population(POPULATION_SIZE, CHROMOSOME_LENGTH)\n",
    "fitness_scores = [fitness(individual, model) for individual in population]\n",
    "\n",
    "print(population[0])\n",
    "print(fitness_scores[0])"
   ]
  }
 ],
 "metadata": {
  "kernelspec": {
   "display_name": ".venv",
   "language": "python",
   "name": "python3"
  },
  "language_info": {
   "codemirror_mode": {
    "name": "ipython",
    "version": 3
   },
   "file_extension": ".py",
   "mimetype": "text/x-python",
   "name": "python",
   "nbconvert_exporter": "python",
   "pygments_lexer": "ipython3",
   "version": "3.13.2"
  }
 },
 "nbformat": 4,
 "nbformat_minor": 5
}
