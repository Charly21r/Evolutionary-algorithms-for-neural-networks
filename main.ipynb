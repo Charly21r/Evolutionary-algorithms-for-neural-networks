{
 "cells": [
  {
   "cell_type": "code",
   "execution_count": 14,
   "id": "a9e6316b",
   "metadata": {},
   "outputs": [],
   "source": [
    "import torch\n",
    "import torch.nn as nn\n",
    "import torch.nn.functional as F\n",
    "import torch.nn.utils as U\n",
    "from torch.utils.data import Dataset, DataLoader\n",
    "from sklearn.datasets import make_moons\n",
    "from sklearn.model_selection import train_test_split\n",
    "import random"
   ]
  },
  {
   "cell_type": "markdown",
   "id": "9c7c74e5",
   "metadata": {},
   "source": [
    "### Define the Neural Network\n",
    "\n",
    "We want to be able to set the weight of the network manually"
   ]
  },
  {
   "cell_type": "code",
   "execution_count": null,
   "id": "237d9bdf",
   "metadata": {},
   "outputs": [],
   "source": [
    "class NeuralNet(nn.Module):\n",
    "    def __init__(self, in_dim=2, out_dim=2):\n",
    "        super(NeuralNet, self).__init__()\n",
    "        \n",
    "        self.layer1=nn.Linear(in_features=in_dim, out_features=4)\n",
    "        self.layer2=nn.Linear(in_features=4, out_features=out_dim)\n",
    "\n",
    "        self.weights_initialization()\n",
    "    \n",
    "    def weights_initialization(self):\n",
    "        for module in self.modules():\n",
    "            if isinstance(module, nn.Linear):\n",
    "                nn.init.xavier_uniform_(module.weight)  # This is the default in PyTorch\n",
    "                nn.init.constant_(module.bias, 0)\n",
    "\n",
    "    def forward(self, x):\n",
    "        out = self.layer1(x)\n",
    "        out = F.relu(out)\n",
    "        out = self.layer2(out)\n",
    "        return out\n",
    "    \n",
    "    def get_flat_params(self):\n",
    "        return U.parameters_to_vector(self.parameters())\n",
    "    \n",
    "    def set_flat_params(self, flat_params):\n",
    "        U.vector_to_parameters(flat_params, self.parameters())"
   ]
  },
  {
   "cell_type": "markdown",
   "id": "791c8108",
   "metadata": {},
   "source": [
    "### Load Data"
   ]
  },
  {
   "cell_type": "code",
   "execution_count": 3,
   "id": "3cb60271",
   "metadata": {},
   "outputs": [],
   "source": [
    "X, y = make_moons(n_samples=1000, noise=0.1, random_state=42)\n",
    "\n",
    "# Split dataset\n",
    "X_train, X_test, y_train, y_test = train_test_split(X, y, test_size=0.2, random_state=42)\n",
    "\n",
    "X_test = torch.tensor(X_test, dtype=torch.float32)\n",
    "y_test = torch.tensor(y_test, dtype=torch.float32)"
   ]
  },
  {
   "cell_type": "markdown",
   "id": "59fc0436",
   "metadata": {},
   "source": [
    "### Evolutionary Algorithm\n",
    "\n",
    "In our case the flat parameters will be the chromosomes"
   ]
  },
  {
   "cell_type": "code",
   "execution_count": null,
   "id": "fd7a9680",
   "metadata": {},
   "outputs": [
    {
     "name": "stdout",
     "output_type": "stream",
     "text": [
      "tensor([ 5.4157e-01, -9.6938e-01,  6.8159e-01, -3.3370e-01,  3.3292e-01,\n",
      "         6.7682e-01,  9.4453e-01, -1.3159e-01,  0.0000e+00,  0.0000e+00,\n",
      "         0.0000e+00,  0.0000e+00,  7.5796e-02, -2.5452e-01,  1.1230e-01,\n",
      "         9.0249e-01, -1.3721e-04, -2.8852e-01,  7.4950e-01,  8.8189e-01,\n",
      "         0.0000e+00,  0.0000e+00], grad_fn=<CatBackward0>)\n"
     ]
    }
   ],
   "source": [
    "# Initialize model and get flat parameters\n",
    "model = NeuralNet()\n",
    "params_vector = model.get_flat_params()\n",
    "print(params_vector)\n",
    "\n",
    "\n",
    "# Configuration\n",
    "POPULATION_SIZE = 100\n",
    "CHROMOSOME_LENGTH = len(params_vector)"
   ]
  },
  {
   "cell_type": "code",
   "execution_count": 23,
   "id": "716ed064",
   "metadata": {},
   "outputs": [],
   "source": [
    "def generate_population(size, chromosome_length):\n",
    "    \"\"\" Generate random population \"\"\"\n",
    "    return [torch.rand(chromosome_length) for _ in range(size)]\n",
    "\n",
    "def fitness(chromosome, model):\n",
    "    \"\"\" Algorithm's fitness function \"\"\"\n",
    "    model.set_flat_params(chromosome)   # Update model's parameters with the chromosome\n",
    "    with torch.no_grad():\n",
    "        outputs = model(X_test)\n",
    "        pred = outputs.argmax(dim=1)\n",
    "        accuracy = (pred == y_test).float().mean().item()\n",
    "\n",
    "    return accuracy\n",
    "\n",
    "def selection(population, fitness_scores):\n",
    "    \"\"\" Roulette Wheel Selection \"\"\"\n",
    "    total_fitness = sum(fitness_scores)\n",
    "    selection_probs = [f / total_fitness for f in fitness_scores]\n",
    "    parent1 = population[random.choices(range(len(population)), selection_probs)[0]]\n",
    "    parent2 = population[random.choices(range(len(population)), selection_probs)[0]]\n",
    "\n",
    "    return parent1, parent2\n",
    "\n",
    "def crossover(parent1, parent2):\n",
    "    \"\"\" Two-Point Crossover \"\"\"\n",
    "    # Choose two random points\n",
    "    point1 = random.randint(1, len(parent1)-1)\n",
    "    point2 = random.randint(1, len(parent1)-1)\n",
    "    \n",
    "    # Ensure the points are different\n",
    "    while point1 == point2:\n",
    "        point2 = random.randint(1, len(parent1)-1)\n",
    "    \n",
    "    if point2 > point1:\n",
    "        offspring1 = torch.cat(parent1[:point1], parent2[point1:point2], parent2[point2:])\n",
    "        offspring2 = torch.cat(parent2[:point1], parent1[point1:point2], parent1[point2:])\n",
    "    else:\n",
    "        offspring1 = torch.cat(parent1[:point1], parent2[point1:point2], parent2[point2:])\n",
    "        offspring2 = torch.cat(parent2[:point1], parent1[point1:point2], parent1[point2:])\n",
    "    \n",
    "    return offspring1, offspring2"
   ]
  },
  {
   "cell_type": "code",
   "execution_count": null,
   "id": "14c260b5",
   "metadata": {},
   "outputs": [
    {
     "name": "stdout",
     "output_type": "stream",
     "text": [
      "Population Sample: tensor([0.3616, 0.8162, 0.8072, 0.3608, 0.1773, 0.0668, 0.8138, 0.1454, 0.4553,\n",
      "        0.4394, 0.4574, 0.6543, 0.7472, 0.2116, 0.7078, 0.9035, 0.4654, 0.2802,\n",
      "        0.9302, 0.1145, 0.3001, 0.8633])\n",
      "\n",
      "Fitness Score: 0.3700000047683716\n",
      "\n",
      "Selection Result: (tensor([0.6443, 0.9105, 0.3444, 0.6380, 0.7061, 0.6244, 0.5292, 0.4460, 0.6031,\n",
      "        0.8608, 0.1625, 0.7537, 0.3419, 0.5018, 0.9584, 0.5983, 0.4713, 0.2136,\n",
      "        0.8183, 0.8074, 0.3154, 0.1748]), tensor([0.3885, 0.9445, 0.3426, 0.4874, 0.0510, 0.3342, 0.8141, 0.5341, 0.0700,\n",
      "        0.0812, 0.3372, 0.0581, 0.8052, 0.6512, 0.0624, 0.9087, 0.3360, 0.6808,\n",
      "        0.1081, 0.9445, 0.9932, 0.4115]))\n"
     ]
    }
   ],
   "source": [
    "population = generate_population(POPULATION_SIZE, CHROMOSOME_LENGTH)\n",
    "fitness_scores = [fitness(individual, model) for individual in population]\n",
    "\n",
    "print(f\"Population Sample: {population[0]}\\n\")\n",
    "print(f\"Fitness Score: {fitness_scores[0]}\\n\")\n",
    "print(f\"Selection Result: {selection(population, fitness_scores)}\")\n"
   ]
  }
 ],
 "metadata": {
  "kernelspec": {
   "display_name": ".venv",
   "language": "python",
   "name": "python3"
  },
  "language_info": {
   "codemirror_mode": {
    "name": "ipython",
    "version": 3
   },
   "file_extension": ".py",
   "mimetype": "text/x-python",
   "name": "python",
   "nbconvert_exporter": "python",
   "pygments_lexer": "ipython3",
   "version": "3.13.2"
  }
 },
 "nbformat": 4,
 "nbformat_minor": 5
}
