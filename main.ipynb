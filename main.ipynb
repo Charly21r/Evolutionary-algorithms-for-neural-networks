{
 "cells": [
  {
   "cell_type": "code",
   "execution_count": 15,
   "id": "a9e6316b",
   "metadata": {},
   "outputs": [],
   "source": [
    "import torch\n",
    "import torch.nn as nn\n",
    "import torch.nn.functional as F\n",
    "import torch.nn.utils as U"
   ]
  },
  {
   "cell_type": "markdown",
   "id": "9c7c74e5",
   "metadata": {},
   "source": [
    "### Define the Neural Network\n",
    "\n",
    "We want to be able to set the weight of the network manually"
   ]
  },
  {
   "cell_type": "code",
   "execution_count": null,
   "id": "237d9bdf",
   "metadata": {},
   "outputs": [],
   "source": [
    "class NeuralNet(nn.Module):\n",
    "    def __init__(self, in_dim=2, out_dim=2):\n",
    "        super(NeuralNet, self).__init__()\n",
    "\n",
    "        self.layer1=nn.Linear(in_features=in_dim, out_features=10)\n",
    "        self.layer2=nn.Linear(in_features=10, out_features=out_dim)\n",
    "\n",
    "        self.weights_initialization()\n",
    "    \n",
    "    def weights_initialization(self):\n",
    "        for module in self.modules():\n",
    "            if isinstance(module, nn.Linear):\n",
    "                nn.init.xavier_uniform_(module.weight)  # This is the default in PyTorch\n",
    "                nn.init.constant_(module.bias, 0)\n",
    "\n",
    "    def forward(self, x):\n",
    "        out = self.layer1(x)\n",
    "        out = F.relu(out)\n",
    "        out = self.layer2(out)\n",
    "        out = F.relu(out)\n",
    "        return out\n",
    "    \n",
    "    def get_flat_params(self):\n",
    "        return U.parameters_to_vector(self.parameters())\n"
   ]
  },
  {
   "cell_type": "code",
   "execution_count": 27,
   "id": "327c0981",
   "metadata": {},
   "outputs": [
    {
     "name": "stdout",
     "output_type": "stream",
     "text": [
      "tensor([ 0.5494, -0.0945,  0.5568,  0.0228, -0.2601,  0.4095,  0.5089, -0.2342,\n",
      "        -0.3808, -0.4065, -0.0054,  0.6944,  0.0714,  0.5408, -0.0033, -0.5492,\n",
      "         0.5516, -0.3626, -0.5301, -0.2151,  0.0000,  0.0000,  0.0000,  0.0000,\n",
      "         0.0000,  0.0000,  0.0000,  0.0000,  0.0000,  0.0000, -0.5670, -0.5839,\n",
      "        -0.2432, -0.0172,  0.1770,  0.6333,  0.6694,  0.2842, -0.0770, -0.5425,\n",
      "         0.6694,  0.2521,  0.0008,  0.4072,  0.6942,  0.0423,  0.6590,  0.6728,\n",
      "        -0.6716, -0.2030,  0.0000,  0.0000], grad_fn=<CatBackward0>)\n"
     ]
    }
   ],
   "source": [
    "model = NeuralNet()\n",
    "params_vector = model.get_flat_params()\n",
    "print(params_vector)"
   ]
  },
  {
   "cell_type": "markdown",
   "id": "59fc0436",
   "metadata": {},
   "source": [
    "### Evolutionary Algorithm\n",
    "\n",
    "In our case the flat parameters will be the chromosomes"
   ]
  },
  {
   "cell_type": "code",
   "execution_count": null,
   "id": "1fe03c1e",
   "metadata": {},
   "outputs": [],
   "source": [
    "import random\n"
   ]
  },
  {
   "cell_type": "code",
   "execution_count": null,
   "id": "71144f18",
   "metadata": {},
   "outputs": [
    {
     "name": "stdout",
     "output_type": "stream",
     "text": [
      "52\n"
     ]
    }
   ],
   "source": [
    "# Configuration\n",
    "\n",
    "population_size = 100\n",
    "chromosome_length = len(params_vector)\n",
    "\n",
    "\n",
    "def generate_population(size):\n",
    "    return []"
   ]
  }
 ],
 "metadata": {
  "kernelspec": {
   "display_name": ".venv",
   "language": "python",
   "name": "python3"
  },
  "language_info": {
   "codemirror_mode": {
    "name": "ipython",
    "version": 3
   },
   "file_extension": ".py",
   "mimetype": "text/x-python",
   "name": "python",
   "nbconvert_exporter": "python",
   "pygments_lexer": "ipython3",
   "version": "3.13.2"
  }
 },
 "nbformat": 4,
 "nbformat_minor": 5
}
