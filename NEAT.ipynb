{
 "cells": [
  {
   "cell_type": "code",
   "execution_count": 1,
   "id": "0a32996d",
   "metadata": {},
   "outputs": [],
   "source": [
    "# Imports\n",
    "import random"
   ]
  },
  {
   "cell_type": "markdown",
   "id": "35389618",
   "metadata": {},
   "source": [
    "## NEAT Algorithm\n",
    "\n",
    "Original paper: https://nn.cs.utexas.edu/downloads/papers/stanley.ec02.pdf\n"
   ]
  },
  {
   "cell_type": "markdown",
   "id": "e86b92b7",
   "metadata": {},
   "source": [
    "#### Network Encoding\n",
    "\n",
    "In the NEAT algorithm each neuron in the neural network is represented as:\n",
    "\n",
    "![image](assets/genotype.png)\n",
    "\n",
    "*Source: [Evolving Neural Networks through Augmenting Topologies](https://nn.cs.utexas.edu/downloads/papers/stanley.ec02.pdf)*\n",
    "\n",
    "\n",
    "\n",
    "![image](assets/mutation.png)\n",
    "\n",
    "*Source: [Evolving Neural Networks through Augmenting Topologies](https://nn.cs.utexas.edu/downloads/papers/stanley.ec02.pdf)*\n",
    "\n",
    "\n",
    "There are 2 types of mutation:\n",
    "- Add connection\n",
    "- Add node"
   ]
  },
  {
   "cell_type": "code",
   "execution_count": null,
   "id": "eb0bea0d",
   "metadata": {},
   "outputs": [],
   "source": [
    "class NodeGene:\n",
    "    def __init__(self, layer, activation, bias):\n",
    "        self.layer = layer  # The layer to which the node belongs\n",
    "        self.activation = activation    # Activation function\n",
    "        self.bias = bias \n",
    "\n",
    "class ConncectionGene:\n",
    "    def __init__(self, in_node: NodeGene, out_node: NodeGene, weight: float, enabled: bool, innov: int):\n",
    "        self.in_node = in_node\n",
    "        self.out_node = out_node\n",
    "        self.weight = weight\n",
    "        self.enabled = enabled\n",
    "        self.innov = innov\n",
    "\n",
    "class Genome:\n",
    "    def __init__(self, num_inputs, num_outputs, nodes, connections):\n",
    "        self.num_inptus = num_inputs\n",
    "        self.num_outputs = num_outputs\n",
    "        self.nodes = nodes\n",
    "        self.connections = connections\n",
    "\n",
    "    def mutate_add_connection(self, innov):\n",
    "        node1, node2 = random.sample(self.nodes, 2)\n",
    "        if node1 == node2:\n",
    "            return\n",
    "        for c in self.connections:\n",
    "            if c.in_node == node1 and c.out_node == node2:\n",
    "                return\n",
    "        \n",
    "        new_conn = ConncectionGene(node1, node2, random.uniform(-1, 1), True, innov)\n",
    "        self.connections.append(new_conn)\n",
    "\n"
   ]
  }
 ],
 "metadata": {
  "kernelspec": {
   "display_name": ".venv",
   "language": "python",
   "name": "python3"
  },
  "language_info": {
   "codemirror_mode": {
    "name": "ipython",
    "version": 3
   },
   "file_extension": ".py",
   "mimetype": "text/x-python",
   "name": "python",
   "nbconvert_exporter": "python",
   "pygments_lexer": "ipython3",
   "version": "3.10.12"
  }
 },
 "nbformat": 4,
 "nbformat_minor": 5
}
