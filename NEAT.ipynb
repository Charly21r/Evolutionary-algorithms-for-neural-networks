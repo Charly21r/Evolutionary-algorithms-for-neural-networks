{
 "cells": [
  {
   "cell_type": "code",
   "execution_count": 4,
   "id": "0a32996d",
   "metadata": {},
   "outputs": [],
   "source": [
    "# Imports\n"
   ]
  },
  {
   "cell_type": "markdown",
   "id": "35389618",
   "metadata": {},
   "source": [
    "## NEAT Algorithm\n",
    "\n",
    "Original paper: https://nn.cs.utexas.edu/downloads/papers/stanley.ec02.pdf\n"
   ]
  },
  {
   "cell_type": "markdown",
   "id": "e86b92b7",
   "metadata": {},
   "source": [
    "\n",
    "In the NEAT algorithm each neuron in the neural network is represented as:\n",
    "\n",
    "![image](assets/genotype.png)\n",
    "\n",
    "*Source: [Evolving Neural Networks through Augmenting Topologies](https://nn.cs.utexas.edu/downloads/papers/stanley.ec02.pdf)*"
   ]
  },
  {
   "cell_type": "code",
   "execution_count": 5,
   "id": "eb0bea0d",
   "metadata": {},
   "outputs": [],
   "source": [
    "# Node Gene\n",
    "class NeuronGene:\n",
    "    def __init__(self, id, layer, activation, bias):\n",
    "        self.id = id\n",
    "        self.layer = layer  # The layer to which the node belongs\n",
    "        self.activation = activation    # Activation function\n",
    "        self.bias = bias \n",
    "\n",
    "class ConncectionGene:\n",
    "    def __init__(self, id, input: NeuronGene, output: NeuronGene, weight: float, enabled: bool, innov: int):\n",
    "        self.id = id\n",
    "        self.input = input\n",
    "        self.output = output\n",
    "        self.weight = weight\n",
    "        self.enabled = enabled\n",
    "        self.innov = innov\n",
    "\n",
    "# Genotype\n",
    "class Network:\n",
    "    def __init__(self, id, num_inputs, num_outputs, nodes, connections):\n",
    "        self.network_id = id\n",
    "        self.num_inptus = num_inputs\n",
    "        self.num_outputs = num_outputs\n",
    "        self.nodes = nodes\n",
    "        self.connections = connections\n",
    "\n"
   ]
  }
 ],
 "metadata": {
  "kernelspec": {
   "display_name": ".venv",
   "language": "python",
   "name": "python3"
  },
  "language_info": {
   "codemirror_mode": {
    "name": "ipython",
    "version": 3
   },
   "file_extension": ".py",
   "mimetype": "text/x-python",
   "name": "python",
   "nbconvert_exporter": "python",
   "pygments_lexer": "ipython3",
   "version": "3.10.12"
  }
 },
 "nbformat": 4,
 "nbformat_minor": 5
}
